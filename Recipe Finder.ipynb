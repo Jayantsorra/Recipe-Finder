{
 "cells": [
  {
   "cell_type": "code",
   "execution_count": 1,
   "id": "6fc5de3e-13f9-4bf8-a9d1-f9f711fada83",
   "metadata": {},
   "outputs": [
    {
     "name": "stdout",
     "output_type": "stream",
     "text": [
      "\n",
      "Recipe Finder Menu:\n",
      "1. Add Recipe\n",
      "2. Find Recipes by Ingredients\n",
      "3. Exit\n"
     ]
    },
    {
     "name": "stdin",
     "output_type": "stream",
     "text": [
      "Enter your choice:  1\n",
      "Enter recipe name:  Spaghetti Bolognese\n",
      "Enter ingredients (comma-separated):  spaghetti, ground beef, tomato sauce, onion, garlic, olive oil\n",
      "Enter cooking instructions:  1. Heat olive oil in a pan. 2. Add chopped onion and minced garlic, sauté until softened. 3. Add ground beef, cook until browned. 4. Pour in tomato sauce, simmer for 20 minutes. 5. Cook spaghetti according to package instructions. 6. Serve spaghetti topped with Bolognese sauce.\n"
     ]
    },
    {
     "name": "stdout",
     "output_type": "stream",
     "text": [
      "Recipe added successfully!\n",
      "\n",
      "Recipe Finder Menu:\n",
      "1. Add Recipe\n",
      "2. Find Recipes by Ingredients\n",
      "3. Exit\n"
     ]
    },
    {
     "name": "stdin",
     "output_type": "stream",
     "text": [
      "Enter your choice:  1\n",
      "Enter recipe name:  Chicken Stir-Fry\n",
      "Enter ingredients (comma-separated):  1. Slice chicken breast into strips. 2. Heat oil in a wok or skillet. 3. Add minced garlic and ginger, stir-fry until fragrant. 4. Add chicken strips, cook until no longer pink. 5. Add sliced bell peppers and onion, stir-fry until vegetables are tender. 6. Pour in soy sauce, toss to combine. 7. Serve hot with rice.\n",
      "Enter cooking instructions:  1. Slice chicken breast into strips. 2. Heat oil in a wok or skillet. 3. Add minced garlic and ginger, stir-fry until fragrant. 4. Add chicken strips, cook until no longer pink. 5. Add sliced bell peppers and onion, stir-fry until vegetables are tender. 6. Pour in soy sauce, toss to combine. 7. Serve hot with rice.\n"
     ]
    },
    {
     "name": "stdout",
     "output_type": "stream",
     "text": [
      "Recipe added successfully!\n",
      "\n",
      "Recipe Finder Menu:\n",
      "1. Add Recipe\n",
      "2. Find Recipes by Ingredients\n",
      "3. Exit\n"
     ]
    },
    {
     "name": "stdin",
     "output_type": "stream",
     "text": [
      "Enter your choice:  2\n",
      "Enter ingredients (comma-separated):  ground beef, tomato sauce, onion, garlic, olive oil\n"
     ]
    },
    {
     "name": "stdout",
     "output_type": "stream",
     "text": [
      "No matching recipes found.\n",
      "\n",
      "Recipe Finder Menu:\n",
      "1. Add Recipe\n",
      "2. Find Recipes by Ingredients\n",
      "3. Exit\n"
     ]
    },
    {
     "name": "stdin",
     "output_type": "stream",
     "text": [
      "Enter your choice:  3\n"
     ]
    },
    {
     "name": "stdout",
     "output_type": "stream",
     "text": [
      "Exiting...\n"
     ]
    }
   ],
   "source": [
    "# Define an empty dictionary to store recipes\n",
    "recipes = {}\n",
    "\n",
    "# Function to add a new recipe\n",
    "def add_recipe():\n",
    "    name = input(\"Enter recipe name: \")\n",
    "    ingredients = input(\"Enter ingredients (comma-separated): \").split(\",\")\n",
    "    instructions = input(\"Enter cooking instructions: \")\n",
    "    recipes[name] = {\"ingredients\": ingredients, \"instructions\": instructions}\n",
    "    print(\"Recipe added successfully!\")\n",
    "\n",
    "# Function to search for recipes based on ingredients\n",
    "def search_recipes(ingredients):\n",
    "    matching_recipes = []\n",
    "    for recipe_name, recipe_details in recipes.items():\n",
    "        if all(ingredient in recipe_details[\"ingredients\"] for ingredient in ingredients):\n",
    "            matching_recipes.append(recipe_name)\n",
    "    return matching_recipes\n",
    "\n",
    "# Function to display recipe details\n",
    "def display_recipe(recipe_name):\n",
    "    recipe_details = recipes[recipe_name]\n",
    "    print(f\"Recipe: {recipe_name}\")\n",
    "    print(\"Ingredients:\", \", \".join(recipe_details[\"ingredients\"]))\n",
    "    print(\"Instructions:\")\n",
    "    print(recipe_details[\"instructions\"])\n",
    "\n",
    "# Main function\n",
    "def main():\n",
    "    while True:\n",
    "        print(\"\\nRecipe Finder Menu:\")\n",
    "        print(\"1. Add Recipe\")\n",
    "        print(\"2. Find Recipes by Ingredients\")\n",
    "        print(\"3. Exit\")\n",
    "\n",
    "        choice = input(\"Enter your choice: \")\n",
    "\n",
    "        if choice == \"1\":\n",
    "            add_recipe()\n",
    "        elif choice == \"2\":\n",
    "            ingredients = input(\"Enter ingredients (comma-separated): \").split(\",\")\n",
    "            matching_recipes = search_recipes(ingredients)\n",
    "            if matching_recipes:\n",
    "                print(\"Matching recipes found:\")\n",
    "                for recipe in matching_recipes:\n",
    "                    print(recipe)\n",
    "                recipe_name = input(\"Enter the name of the recipe to view details: \")\n",
    "                if recipe_name in matching_recipes:\n",
    "                    display_recipe(recipe_name)\n",
    "                else:\n",
    "                    print(\"Invalid recipe name.\")\n",
    "            else:\n",
    "                print(\"No matching recipes found.\")\n",
    "        elif choice == \"3\":\n",
    "            print(\"Exiting...\")\n",
    "            break\n",
    "        else:\n",
    "            print(\"Invalid choice. Please try again.\")\n",
    "\n",
    "if __name__ == \"__main__\":\n",
    "    main()\n"
   ]
  },
  {
   "cell_type": "code",
   "execution_count": null,
   "id": "7a6db370-661b-4de5-8e69-2e3ed9eaf776",
   "metadata": {},
   "outputs": [],
   "source": []
  }
 ],
 "metadata": {
  "kernelspec": {
   "display_name": "Python 3 (ipykernel)",
   "language": "python",
   "name": "python3"
  },
  "language_info": {
   "codemirror_mode": {
    "name": "ipython",
    "version": 3
   },
   "file_extension": ".py",
   "mimetype": "text/x-python",
   "name": "python",
   "nbconvert_exporter": "python",
   "pygments_lexer": "ipython3",
   "version": "3.11.7"
  }
 },
 "nbformat": 4,
 "nbformat_minor": 5
}
